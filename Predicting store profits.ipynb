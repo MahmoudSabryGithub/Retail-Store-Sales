{
 "cells": [
  {
   "cell_type": "markdown",
   "id": "6d2e36f8",
   "metadata": {},
   "source": [
    "# Description of the Notebook: \n",
    "## Purpose:\n",
    "#### This Jupyter Notebook include developing and evaluating ML models to predict the store profits\n",
    "## The key objectives include:\n",
    "##### >Data preprocessing: Splitting the data, data encoding and feature scaling .\n",
    "##### >Developing ML models: developing different models to predict the store profits like (Linear Regression, Randome Forest and Grid Search). .\n",
    "##### >Evaluating the model :Model evaluation using mean square error and mean absolute error."
   ]
  },
  {
   "cell_type": "markdown",
   "id": "bf3232a6",
   "metadata": {},
   "source": [
    "# "
   ]
  },
  {
   "cell_type": "markdown",
   "id": "0a77dd4f",
   "metadata": {},
   "source": [
    "## Importing required libiraries"
   ]
  },
  {
   "cell_type": "code",
   "execution_count": 166,
   "id": "05d715e2",
   "metadata": {},
   "outputs": [],
   "source": [
    "from pandas import *\n",
    "from numpy import *\n",
    "from sklearn.model_selection import train_test_split\n",
    "from sklearn.linear_model import LinearRegression\n",
    "from sklearn.preprocessing import LabelEncoder\n",
    "from sklearn.ensemble import RandomForestRegressor\n",
    "from sklearn.model_selection import GridSearchCV\n",
    "from sklearn.metrics import mean_absolute_error, mean_squared_error, r2_score, median_absolute_error\n",
    "from sklearn.preprocessing import StandardScaler"
   ]
  },
  {
   "cell_type": "markdown",
   "id": "10be5611",
   "metadata": {},
   "source": [
    "## Reading Data "
   ]
  },
  {
   "cell_type": "code",
   "execution_count": 167,
   "id": "50d9ce3b",
   "metadata": {},
   "outputs": [],
   "source": [
    "data=read_csv(r\"C:\\Users\\DELL\\Documents\\Sales\\Cleaned  Retail Store Sales Data.csv\")"
   ]
  },
  {
   "cell_type": "code",
   "execution_count": 168,
   "id": "315715fa",
   "metadata": {},
   "outputs": [
    {
     "data": {
      "text/html": [
       "<div>\n",
       "<style scoped>\n",
       "    .dataframe tbody tr th:only-of-type {\n",
       "        vertical-align: middle;\n",
       "    }\n",
       "\n",
       "    .dataframe tbody tr th {\n",
       "        vertical-align: top;\n",
       "    }\n",
       "\n",
       "    .dataframe thead th {\n",
       "        text-align: right;\n",
       "    }\n",
       "</style>\n",
       "<table border=\"1\" class=\"dataframe\">\n",
       "  <thead>\n",
       "    <tr style=\"text-align: right;\">\n",
       "      <th></th>\n",
       "      <th>Unnamed: 0</th>\n",
       "      <th>order_id</th>\n",
       "      <th>order_date</th>\n",
       "      <th>ship_date</th>\n",
       "      <th>customer</th>\n",
       "      <th>manufactory</th>\n",
       "      <th>product_name</th>\n",
       "      <th>segment</th>\n",
       "      <th>category</th>\n",
       "      <th>subcategory</th>\n",
       "      <th>...</th>\n",
       "      <th>state</th>\n",
       "      <th>country</th>\n",
       "      <th>discount</th>\n",
       "      <th>profit</th>\n",
       "      <th>quantity</th>\n",
       "      <th>sales</th>\n",
       "      <th>profit_margin</th>\n",
       "      <th>Year</th>\n",
       "      <th>Month</th>\n",
       "      <th>Day</th>\n",
       "    </tr>\n",
       "  </thead>\n",
       "  <tbody>\n",
       "    <tr>\n",
       "      <th>0</th>\n",
       "      <td>0</td>\n",
       "      <td>US-2020-103800</td>\n",
       "      <td>2019-01-03</td>\n",
       "      <td>2019-01-07</td>\n",
       "      <td>Darren Powers</td>\n",
       "      <td>Message Book</td>\n",
       "      <td>Message Book, Wirebound, Four 5 1/2\" X 4\" Form...</td>\n",
       "      <td>Consumer</td>\n",
       "      <td>Office Supplies</td>\n",
       "      <td>Paper</td>\n",
       "      <td>...</td>\n",
       "      <td>Texas</td>\n",
       "      <td>United States</td>\n",
       "      <td>0.2</td>\n",
       "      <td>5.5512</td>\n",
       "      <td>2</td>\n",
       "      <td>16.448</td>\n",
       "      <td>0.3375</td>\n",
       "      <td>2019</td>\n",
       "      <td>1</td>\n",
       "      <td>3</td>\n",
       "    </tr>\n",
       "    <tr>\n",
       "      <th>1</th>\n",
       "      <td>1</td>\n",
       "      <td>US-2020-112326</td>\n",
       "      <td>2019-01-04</td>\n",
       "      <td>2019-01-08</td>\n",
       "      <td>Phillina Ober</td>\n",
       "      <td>GBC</td>\n",
       "      <td>GBC Standard Plastic Binding Systems Combs</td>\n",
       "      <td>Home Office</td>\n",
       "      <td>Office Supplies</td>\n",
       "      <td>Binders</td>\n",
       "      <td>...</td>\n",
       "      <td>Illinois</td>\n",
       "      <td>United States</td>\n",
       "      <td>0.8</td>\n",
       "      <td>-5.4870</td>\n",
       "      <td>2</td>\n",
       "      <td>3.540</td>\n",
       "      <td>-1.5500</td>\n",
       "      <td>2019</td>\n",
       "      <td>1</td>\n",
       "      <td>4</td>\n",
       "    </tr>\n",
       "    <tr>\n",
       "      <th>2</th>\n",
       "      <td>2</td>\n",
       "      <td>US-2020-112326</td>\n",
       "      <td>2019-01-04</td>\n",
       "      <td>2019-01-08</td>\n",
       "      <td>Phillina Ober</td>\n",
       "      <td>Avery</td>\n",
       "      <td>Avery 508</td>\n",
       "      <td>Home Office</td>\n",
       "      <td>Office Supplies</td>\n",
       "      <td>Labels</td>\n",
       "      <td>...</td>\n",
       "      <td>Illinois</td>\n",
       "      <td>United States</td>\n",
       "      <td>0.2</td>\n",
       "      <td>4.2717</td>\n",
       "      <td>3</td>\n",
       "      <td>11.784</td>\n",
       "      <td>0.3625</td>\n",
       "      <td>2019</td>\n",
       "      <td>1</td>\n",
       "      <td>4</td>\n",
       "    </tr>\n",
       "    <tr>\n",
       "      <th>3</th>\n",
       "      <td>3</td>\n",
       "      <td>US-2020-112326</td>\n",
       "      <td>2019-01-04</td>\n",
       "      <td>2019-01-08</td>\n",
       "      <td>Phillina Ober</td>\n",
       "      <td>SAFCO</td>\n",
       "      <td>SAFCO Boltless Steel Shelving</td>\n",
       "      <td>Home Office</td>\n",
       "      <td>Office Supplies</td>\n",
       "      <td>Storage</td>\n",
       "      <td>...</td>\n",
       "      <td>Illinois</td>\n",
       "      <td>United States</td>\n",
       "      <td>0.2</td>\n",
       "      <td>-64.7748</td>\n",
       "      <td>3</td>\n",
       "      <td>272.736</td>\n",
       "      <td>-0.2375</td>\n",
       "      <td>2019</td>\n",
       "      <td>1</td>\n",
       "      <td>4</td>\n",
       "    </tr>\n",
       "    <tr>\n",
       "      <th>4</th>\n",
       "      <td>4</td>\n",
       "      <td>US-2020-141817</td>\n",
       "      <td>2019-01-05</td>\n",
       "      <td>2019-01-12</td>\n",
       "      <td>Mick Brown</td>\n",
       "      <td>Avery</td>\n",
       "      <td>Avery Hi-Liter EverBold Pen Style Fluorescent ...</td>\n",
       "      <td>Consumer</td>\n",
       "      <td>Office Supplies</td>\n",
       "      <td>Art</td>\n",
       "      <td>...</td>\n",
       "      <td>Pennsylvania</td>\n",
       "      <td>United States</td>\n",
       "      <td>0.2</td>\n",
       "      <td>4.8840</td>\n",
       "      <td>3</td>\n",
       "      <td>19.536</td>\n",
       "      <td>0.2500</td>\n",
       "      <td>2019</td>\n",
       "      <td>1</td>\n",
       "      <td>5</td>\n",
       "    </tr>\n",
       "  </tbody>\n",
       "</table>\n",
       "<p>5 rows × 23 columns</p>\n",
       "</div>"
      ],
      "text/plain": [
       "   Unnamed: 0        order_id  order_date   ship_date       customer  \\\n",
       "0           0  US-2020-103800  2019-01-03  2019-01-07  Darren Powers   \n",
       "1           1  US-2020-112326  2019-01-04  2019-01-08  Phillina Ober   \n",
       "2           2  US-2020-112326  2019-01-04  2019-01-08  Phillina Ober   \n",
       "3           3  US-2020-112326  2019-01-04  2019-01-08  Phillina Ober   \n",
       "4           4  US-2020-141817  2019-01-05  2019-01-12     Mick Brown   \n",
       "\n",
       "    manufactory                                       product_name  \\\n",
       "0  Message Book  Message Book, Wirebound, Four 5 1/2\" X 4\" Form...   \n",
       "1           GBC         GBC Standard Plastic Binding Systems Combs   \n",
       "2         Avery                                          Avery 508   \n",
       "3         SAFCO                      SAFCO Boltless Steel Shelving   \n",
       "4         Avery  Avery Hi-Liter EverBold Pen Style Fluorescent ...   \n",
       "\n",
       "       segment         category subcategory  ...         state        country  \\\n",
       "0     Consumer  Office Supplies       Paper  ...         Texas  United States   \n",
       "1  Home Office  Office Supplies     Binders  ...      Illinois  United States   \n",
       "2  Home Office  Office Supplies      Labels  ...      Illinois  United States   \n",
       "3  Home Office  Office Supplies     Storage  ...      Illinois  United States   \n",
       "4     Consumer  Office Supplies         Art  ...  Pennsylvania  United States   \n",
       "\n",
       "  discount   profit quantity    sales  profit_margin  Year  Month  Day  \n",
       "0      0.2   5.5512        2   16.448         0.3375  2019      1    3  \n",
       "1      0.8  -5.4870        2    3.540        -1.5500  2019      1    4  \n",
       "2      0.2   4.2717        3   11.784         0.3625  2019      1    4  \n",
       "3      0.2 -64.7748        3  272.736        -0.2375  2019      1    4  \n",
       "4      0.2   4.8840        3   19.536         0.2500  2019      1    5  \n",
       "\n",
       "[5 rows x 23 columns]"
      ]
     },
     "execution_count": 168,
     "metadata": {},
     "output_type": "execute_result"
    }
   ],
   "source": [
    "data.head()"
   ]
  },
  {
   "cell_type": "code",
   "execution_count": 169,
   "id": "6ef74170",
   "metadata": {},
   "outputs": [
    {
     "data": {
      "text/html": [
       "<div>\n",
       "<style scoped>\n",
       "    .dataframe tbody tr th:only-of-type {\n",
       "        vertical-align: middle;\n",
       "    }\n",
       "\n",
       "    .dataframe tbody tr th {\n",
       "        vertical-align: top;\n",
       "    }\n",
       "\n",
       "    .dataframe thead th {\n",
       "        text-align: right;\n",
       "    }\n",
       "</style>\n",
       "<table border=\"1\" class=\"dataframe\">\n",
       "  <thead>\n",
       "    <tr style=\"text-align: right;\">\n",
       "      <th></th>\n",
       "      <th>Unnamed: 0</th>\n",
       "      <th>zip</th>\n",
       "      <th>discount</th>\n",
       "      <th>profit</th>\n",
       "      <th>quantity</th>\n",
       "      <th>sales</th>\n",
       "      <th>profit_margin</th>\n",
       "      <th>Year</th>\n",
       "      <th>Month</th>\n",
       "      <th>Day</th>\n",
       "    </tr>\n",
       "  </thead>\n",
       "  <tbody>\n",
       "    <tr>\n",
       "      <th>count</th>\n",
       "      <td>9993.000000</td>\n",
       "      <td>9993.000000</td>\n",
       "      <td>9993.000000</td>\n",
       "      <td>9993.000000</td>\n",
       "      <td>9993.000000</td>\n",
       "      <td>9993.000000</td>\n",
       "      <td>9993.000000</td>\n",
       "      <td>9993.000000</td>\n",
       "      <td>9993.000000</td>\n",
       "      <td>9993.000000</td>\n",
       "    </tr>\n",
       "    <tr>\n",
       "      <th>mean</th>\n",
       "      <td>4996.961373</td>\n",
       "      <td>55191.568698</td>\n",
       "      <td>0.156188</td>\n",
       "      <td>28.660971</td>\n",
       "      <td>3.789753</td>\n",
       "      <td>229.852846</td>\n",
       "      <td>0.120330</td>\n",
       "      <td>2020.722406</td>\n",
       "      <td>7.810067</td>\n",
       "      <td>15.467627</td>\n",
       "    </tr>\n",
       "    <tr>\n",
       "      <th>std</th>\n",
       "      <td>2884.939283</td>\n",
       "      <td>32065.086443</td>\n",
       "      <td>0.206457</td>\n",
       "      <td>234.271476</td>\n",
       "      <td>2.225149</td>\n",
       "      <td>623.276074</td>\n",
       "      <td>0.466775</td>\n",
       "      <td>1.123479</td>\n",
       "      <td>3.284598</td>\n",
       "      <td>8.748291</td>\n",
       "    </tr>\n",
       "    <tr>\n",
       "      <th>min</th>\n",
       "      <td>0.000000</td>\n",
       "      <td>1040.000000</td>\n",
       "      <td>0.000000</td>\n",
       "      <td>-6599.978000</td>\n",
       "      <td>1.000000</td>\n",
       "      <td>0.444000</td>\n",
       "      <td>-2.750000</td>\n",
       "      <td>2019.000000</td>\n",
       "      <td>1.000000</td>\n",
       "      <td>1.000000</td>\n",
       "    </tr>\n",
       "    <tr>\n",
       "      <th>25%</th>\n",
       "      <td>2499.000000</td>\n",
       "      <td>23223.000000</td>\n",
       "      <td>0.000000</td>\n",
       "      <td>1.731000</td>\n",
       "      <td>2.000000</td>\n",
       "      <td>17.280000</td>\n",
       "      <td>0.075000</td>\n",
       "      <td>2020.000000</td>\n",
       "      <td>5.000000</td>\n",
       "      <td>8.000000</td>\n",
       "    </tr>\n",
       "    <tr>\n",
       "      <th>50%</th>\n",
       "      <td>4997.000000</td>\n",
       "      <td>56560.000000</td>\n",
       "      <td>0.200000</td>\n",
       "      <td>8.671000</td>\n",
       "      <td>3.000000</td>\n",
       "      <td>54.480000</td>\n",
       "      <td>0.270000</td>\n",
       "      <td>2021.000000</td>\n",
       "      <td>9.000000</td>\n",
       "      <td>15.000000</td>\n",
       "    </tr>\n",
       "    <tr>\n",
       "      <th>75%</th>\n",
       "      <td>7495.000000</td>\n",
       "      <td>90008.000000</td>\n",
       "      <td>0.200000</td>\n",
       "      <td>29.364000</td>\n",
       "      <td>5.000000</td>\n",
       "      <td>209.940000</td>\n",
       "      <td>0.362500</td>\n",
       "      <td>2022.000000</td>\n",
       "      <td>11.000000</td>\n",
       "      <td>23.000000</td>\n",
       "    </tr>\n",
       "    <tr>\n",
       "      <th>max</th>\n",
       "      <td>9993.000000</td>\n",
       "      <td>99301.000000</td>\n",
       "      <td>0.800000</td>\n",
       "      <td>8399.976000</td>\n",
       "      <td>14.000000</td>\n",
       "      <td>22638.480000</td>\n",
       "      <td>0.500000</td>\n",
       "      <td>2022.000000</td>\n",
       "      <td>12.000000</td>\n",
       "      <td>31.000000</td>\n",
       "    </tr>\n",
       "  </tbody>\n",
       "</table>\n",
       "</div>"
      ],
      "text/plain": [
       "        Unnamed: 0           zip     discount       profit     quantity  \\\n",
       "count  9993.000000   9993.000000  9993.000000  9993.000000  9993.000000   \n",
       "mean   4996.961373  55191.568698     0.156188    28.660971     3.789753   \n",
       "std    2884.939283  32065.086443     0.206457   234.271476     2.225149   \n",
       "min       0.000000   1040.000000     0.000000 -6599.978000     1.000000   \n",
       "25%    2499.000000  23223.000000     0.000000     1.731000     2.000000   \n",
       "50%    4997.000000  56560.000000     0.200000     8.671000     3.000000   \n",
       "75%    7495.000000  90008.000000     0.200000    29.364000     5.000000   \n",
       "max    9993.000000  99301.000000     0.800000  8399.976000    14.000000   \n",
       "\n",
       "              sales  profit_margin         Year        Month          Day  \n",
       "count   9993.000000    9993.000000  9993.000000  9993.000000  9993.000000  \n",
       "mean     229.852846       0.120330  2020.722406     7.810067    15.467627  \n",
       "std      623.276074       0.466775     1.123479     3.284598     8.748291  \n",
       "min        0.444000      -2.750000  2019.000000     1.000000     1.000000  \n",
       "25%       17.280000       0.075000  2020.000000     5.000000     8.000000  \n",
       "50%       54.480000       0.270000  2021.000000     9.000000    15.000000  \n",
       "75%      209.940000       0.362500  2022.000000    11.000000    23.000000  \n",
       "max    22638.480000       0.500000  2022.000000    12.000000    31.000000  "
      ]
     },
     "execution_count": 169,
     "metadata": {},
     "output_type": "execute_result"
    }
   ],
   "source": [
    "data.describe()"
   ]
  },
  {
   "cell_type": "code",
   "execution_count": 170,
   "id": "71518479",
   "metadata": {},
   "outputs": [
    {
     "name": "stdout",
     "output_type": "stream",
     "text": [
      "<class 'pandas.core.frame.DataFrame'>\n",
      "RangeIndex: 9993 entries, 0 to 9992\n",
      "Data columns (total 23 columns):\n",
      " #   Column         Non-Null Count  Dtype  \n",
      "---  ------         --------------  -----  \n",
      " 0   Unnamed: 0     9993 non-null   int64  \n",
      " 1   order_id       9993 non-null   object \n",
      " 2   order_date     9993 non-null   object \n",
      " 3   ship_date      9993 non-null   object \n",
      " 4   customer       9993 non-null   object \n",
      " 5   manufactory    9993 non-null   object \n",
      " 6   product_name   9993 non-null   object \n",
      " 7   segment        9993 non-null   object \n",
      " 8   category       9993 non-null   object \n",
      " 9   subcategory    9993 non-null   object \n",
      " 10  region         9993 non-null   object \n",
      " 11  zip            9993 non-null   int64  \n",
      " 12  city           9993 non-null   object \n",
      " 13  state          9993 non-null   object \n",
      " 14  country        9993 non-null   object \n",
      " 15  discount       9993 non-null   float64\n",
      " 16  profit         9993 non-null   float64\n",
      " 17  quantity       9993 non-null   int64  \n",
      " 18  sales          9993 non-null   float64\n",
      " 19  profit_margin  9993 non-null   float64\n",
      " 20  Year           9993 non-null   int64  \n",
      " 21  Month          9993 non-null   int64  \n",
      " 22  Day            9993 non-null   int64  \n",
      "dtypes: float64(4), int64(6), object(13)\n",
      "memory usage: 1.8+ MB\n"
     ]
    }
   ],
   "source": [
    "data.info()"
   ]
  },
  {
   "cell_type": "markdown",
   "id": "df8fd09e",
   "metadata": {},
   "source": [
    "## Data Preprocessing "
   ]
  },
  {
   "cell_type": "code",
   "execution_count": 171,
   "id": "f4d50400",
   "metadata": {},
   "outputs": [],
   "source": [
    "# Identifing the features and target\n",
    "X=data.drop(columns=[\"country\",\"profit\"])\n",
    "y=data[\"profit\"]"
   ]
  },
  {
   "cell_type": "code",
   "execution_count": 172,
   "id": "1898fee2",
   "metadata": {},
   "outputs": [
    {
     "data": {
      "text/html": [
       "<div>\n",
       "<style scoped>\n",
       "    .dataframe tbody tr th:only-of-type {\n",
       "        vertical-align: middle;\n",
       "    }\n",
       "\n",
       "    .dataframe tbody tr th {\n",
       "        vertical-align: top;\n",
       "    }\n",
       "\n",
       "    .dataframe thead th {\n",
       "        text-align: right;\n",
       "    }\n",
       "</style>\n",
       "<table border=\"1\" class=\"dataframe\">\n",
       "  <thead>\n",
       "    <tr style=\"text-align: right;\">\n",
       "      <th></th>\n",
       "      <th>Unnamed: 0</th>\n",
       "      <th>order_id</th>\n",
       "      <th>order_date</th>\n",
       "      <th>ship_date</th>\n",
       "      <th>customer</th>\n",
       "      <th>manufactory</th>\n",
       "      <th>product_name</th>\n",
       "      <th>segment</th>\n",
       "      <th>category</th>\n",
       "      <th>subcategory</th>\n",
       "      <th>...</th>\n",
       "      <th>zip</th>\n",
       "      <th>city</th>\n",
       "      <th>state</th>\n",
       "      <th>discount</th>\n",
       "      <th>quantity</th>\n",
       "      <th>sales</th>\n",
       "      <th>profit_margin</th>\n",
       "      <th>Year</th>\n",
       "      <th>Month</th>\n",
       "      <th>Day</th>\n",
       "    </tr>\n",
       "  </thead>\n",
       "  <tbody>\n",
       "    <tr>\n",
       "      <th>0</th>\n",
       "      <td>0</td>\n",
       "      <td>62</td>\n",
       "      <td>0</td>\n",
       "      <td>0</td>\n",
       "      <td>198</td>\n",
       "      <td>100</td>\n",
       "      <td>1080</td>\n",
       "      <td>0</td>\n",
       "      <td>1</td>\n",
       "      <td>12</td>\n",
       "      <td>...</td>\n",
       "      <td>77095</td>\n",
       "      <td>207</td>\n",
       "      <td>41</td>\n",
       "      <td>0.2</td>\n",
       "      <td>2</td>\n",
       "      <td>16.448</td>\n",
       "      <td>0.3375</td>\n",
       "      <td>2019</td>\n",
       "      <td>1</td>\n",
       "      <td>3</td>\n",
       "    </tr>\n",
       "    <tr>\n",
       "      <th>1</th>\n",
       "      <td>1</td>\n",
       "      <td>185</td>\n",
       "      <td>1</td>\n",
       "      <td>1</td>\n",
       "      <td>611</td>\n",
       "      <td>63</td>\n",
       "      <td>707</td>\n",
       "      <td>2</td>\n",
       "      <td>1</td>\n",
       "      <td>3</td>\n",
       "      <td>...</td>\n",
       "      <td>60540</td>\n",
       "      <td>321</td>\n",
       "      <td>11</td>\n",
       "      <td>0.8</td>\n",
       "      <td>2</td>\n",
       "      <td>3.540</td>\n",
       "      <td>-1.5500</td>\n",
       "      <td>2019</td>\n",
       "      <td>1</td>\n",
       "      <td>4</td>\n",
       "    </tr>\n",
       "    <tr>\n",
       "      <th>2</th>\n",
       "      <td>2</td>\n",
       "      <td>185</td>\n",
       "      <td>1</td>\n",
       "      <td>1</td>\n",
       "      <td>611</td>\n",
       "      <td>20</td>\n",
       "      <td>217</td>\n",
       "      <td>2</td>\n",
       "      <td>1</td>\n",
       "      <td>10</td>\n",
       "      <td>...</td>\n",
       "      <td>60540</td>\n",
       "      <td>321</td>\n",
       "      <td>11</td>\n",
       "      <td>0.2</td>\n",
       "      <td>3</td>\n",
       "      <td>11.784</td>\n",
       "      <td>0.3625</td>\n",
       "      <td>2019</td>\n",
       "      <td>1</td>\n",
       "      <td>4</td>\n",
       "    </tr>\n",
       "    <tr>\n",
       "      <th>3</th>\n",
       "      <td>3</td>\n",
       "      <td>185</td>\n",
       "      <td>1</td>\n",
       "      <td>1</td>\n",
       "      <td>611</td>\n",
       "      <td>134</td>\n",
       "      <td>1363</td>\n",
       "      <td>2</td>\n",
       "      <td>1</td>\n",
       "      <td>14</td>\n",
       "      <td>...</td>\n",
       "      <td>60540</td>\n",
       "      <td>321</td>\n",
       "      <td>11</td>\n",
       "      <td>0.2</td>\n",
       "      <td>3</td>\n",
       "      <td>272.736</td>\n",
       "      <td>-0.2375</td>\n",
       "      <td>2019</td>\n",
       "      <td>1</td>\n",
       "      <td>4</td>\n",
       "    </tr>\n",
       "    <tr>\n",
       "      <th>4</th>\n",
       "      <td>4</td>\n",
       "      <td>607</td>\n",
       "      <td>2</td>\n",
       "      <td>3</td>\n",
       "      <td>537</td>\n",
       "      <td>20</td>\n",
       "      <td>250</td>\n",
       "      <td>0</td>\n",
       "      <td>1</td>\n",
       "      <td>2</td>\n",
       "      <td>...</td>\n",
       "      <td>19143</td>\n",
       "      <td>374</td>\n",
       "      <td>36</td>\n",
       "      <td>0.2</td>\n",
       "      <td>3</td>\n",
       "      <td>19.536</td>\n",
       "      <td>0.2500</td>\n",
       "      <td>2019</td>\n",
       "      <td>1</td>\n",
       "      <td>5</td>\n",
       "    </tr>\n",
       "    <tr>\n",
       "      <th>...</th>\n",
       "      <td>...</td>\n",
       "      <td>...</td>\n",
       "      <td>...</td>\n",
       "      <td>...</td>\n",
       "      <td>...</td>\n",
       "      <td>...</td>\n",
       "      <td>...</td>\n",
       "      <td>...</td>\n",
       "      <td>...</td>\n",
       "      <td>...</td>\n",
       "      <td>...</td>\n",
       "      <td>...</td>\n",
       "      <td>...</td>\n",
       "      <td>...</td>\n",
       "      <td>...</td>\n",
       "      <td>...</td>\n",
       "      <td>...</td>\n",
       "      <td>...</td>\n",
       "      <td>...</td>\n",
       "      <td>...</td>\n",
       "      <td>...</td>\n",
       "    </tr>\n",
       "    <tr>\n",
       "      <th>9988</th>\n",
       "      <td>9989</td>\n",
       "      <td>3983</td>\n",
       "      <td>1235</td>\n",
       "      <td>1333</td>\n",
       "      <td>160</td>\n",
       "      <td>57</td>\n",
       "      <td>611</td>\n",
       "      <td>2</td>\n",
       "      <td>1</td>\n",
       "      <td>1</td>\n",
       "      <td>...</td>\n",
       "      <td>47201</td>\n",
       "      <td>94</td>\n",
       "      <td>12</td>\n",
       "      <td>0.0</td>\n",
       "      <td>2</td>\n",
       "      <td>209.300</td>\n",
       "      <td>0.2700</td>\n",
       "      <td>2022</td>\n",
       "      <td>12</td>\n",
       "      <td>30</td>\n",
       "    </tr>\n",
       "    <tr>\n",
       "      <th>9989</th>\n",
       "      <td>9990</td>\n",
       "      <td>4383</td>\n",
       "      <td>1235</td>\n",
       "      <td>1331</td>\n",
       "      <td>589</td>\n",
       "      <td>116</td>\n",
       "      <td>389</td>\n",
       "      <td>0</td>\n",
       "      <td>0</td>\n",
       "      <td>4</td>\n",
       "      <td>...</td>\n",
       "      <td>10009</td>\n",
       "      <td>329</td>\n",
       "      <td>30</td>\n",
       "      <td>0.2</td>\n",
       "      <td>4</td>\n",
       "      <td>323.136</td>\n",
       "      <td>0.0375</td>\n",
       "      <td>2022</td>\n",
       "      <td>12</td>\n",
       "      <td>30</td>\n",
       "    </tr>\n",
       "    <tr>\n",
       "      <th>9990</th>\n",
       "      <td>9991</td>\n",
       "      <td>4383</td>\n",
       "      <td>1235</td>\n",
       "      <td>1331</td>\n",
       "      <td>589</td>\n",
       "      <td>175</td>\n",
       "      <td>1638</td>\n",
       "      <td>0</td>\n",
       "      <td>1</td>\n",
       "      <td>3</td>\n",
       "      <td>...</td>\n",
       "      <td>10009</td>\n",
       "      <td>329</td>\n",
       "      <td>30</td>\n",
       "      <td>0.2</td>\n",
       "      <td>3</td>\n",
       "      <td>52.776</td>\n",
       "      <td>0.3750</td>\n",
       "      <td>2022</td>\n",
       "      <td>12</td>\n",
       "      <td>30</td>\n",
       "    </tr>\n",
       "    <tr>\n",
       "      <th>9991</th>\n",
       "      <td>9992</td>\n",
       "      <td>4383</td>\n",
       "      <td>1235</td>\n",
       "      <td>1331</td>\n",
       "      <td>589</td>\n",
       "      <td>116</td>\n",
       "      <td>730</td>\n",
       "      <td>0</td>\n",
       "      <td>2</td>\n",
       "      <td>13</td>\n",
       "      <td>...</td>\n",
       "      <td>10009</td>\n",
       "      <td>329</td>\n",
       "      <td>30</td>\n",
       "      <td>0.0</td>\n",
       "      <td>7</td>\n",
       "      <td>90.930</td>\n",
       "      <td>0.0300</td>\n",
       "      <td>2022</td>\n",
       "      <td>12</td>\n",
       "      <td>30</td>\n",
       "    </tr>\n",
       "    <tr>\n",
       "      <th>9992</th>\n",
       "      <td>9993</td>\n",
       "      <td>4694</td>\n",
       "      <td>1235</td>\n",
       "      <td>1331</td>\n",
       "      <td>370</td>\n",
       "      <td>116</td>\n",
       "      <td>283</td>\n",
       "      <td>0</td>\n",
       "      <td>1</td>\n",
       "      <td>8</td>\n",
       "      <td>...</td>\n",
       "      <td>80538</td>\n",
       "      <td>268</td>\n",
       "      <td>4</td>\n",
       "      <td>0.2</td>\n",
       "      <td>3</td>\n",
       "      <td>3.024</td>\n",
       "      <td>-0.2000</td>\n",
       "      <td>2022</td>\n",
       "      <td>12</td>\n",
       "      <td>30</td>\n",
       "    </tr>\n",
       "  </tbody>\n",
       "</table>\n",
       "<p>9993 rows × 21 columns</p>\n",
       "</div>"
      ],
      "text/plain": [
       "      Unnamed: 0  order_id  order_date  ship_date  customer  manufactory  \\\n",
       "0              0        62           0          0       198          100   \n",
       "1              1       185           1          1       611           63   \n",
       "2              2       185           1          1       611           20   \n",
       "3              3       185           1          1       611          134   \n",
       "4              4       607           2          3       537           20   \n",
       "...          ...       ...         ...        ...       ...          ...   \n",
       "9988        9989      3983        1235       1333       160           57   \n",
       "9989        9990      4383        1235       1331       589          116   \n",
       "9990        9991      4383        1235       1331       589          175   \n",
       "9991        9992      4383        1235       1331       589          116   \n",
       "9992        9993      4694        1235       1331       370          116   \n",
       "\n",
       "      product_name  segment  category  subcategory  ...    zip  city  state  \\\n",
       "0             1080        0         1           12  ...  77095   207     41   \n",
       "1              707        2         1            3  ...  60540   321     11   \n",
       "2              217        2         1           10  ...  60540   321     11   \n",
       "3             1363        2         1           14  ...  60540   321     11   \n",
       "4              250        0         1            2  ...  19143   374     36   \n",
       "...            ...      ...       ...          ...  ...    ...   ...    ...   \n",
       "9988           611        2         1            1  ...  47201    94     12   \n",
       "9989           389        0         0            4  ...  10009   329     30   \n",
       "9990          1638        0         1            3  ...  10009   329     30   \n",
       "9991           730        0         2           13  ...  10009   329     30   \n",
       "9992           283        0         1            8  ...  80538   268      4   \n",
       "\n",
       "      discount  quantity    sales  profit_margin  Year  Month  Day  \n",
       "0          0.2         2   16.448         0.3375  2019      1    3  \n",
       "1          0.8         2    3.540        -1.5500  2019      1    4  \n",
       "2          0.2         3   11.784         0.3625  2019      1    4  \n",
       "3          0.2         3  272.736        -0.2375  2019      1    4  \n",
       "4          0.2         3   19.536         0.2500  2019      1    5  \n",
       "...        ...       ...      ...            ...   ...    ...  ...  \n",
       "9988       0.0         2  209.300         0.2700  2022     12   30  \n",
       "9989       0.2         4  323.136         0.0375  2022     12   30  \n",
       "9990       0.2         3   52.776         0.3750  2022     12   30  \n",
       "9991       0.0         7   90.930         0.0300  2022     12   30  \n",
       "9992       0.2         3    3.024        -0.2000  2022     12   30  \n",
       "\n",
       "[9993 rows x 21 columns]"
      ]
     },
     "execution_count": 172,
     "metadata": {},
     "output_type": "execute_result"
    }
   ],
   "source": [
    "# Data Encoding\n",
    "X1 = X.select_dtypes('O')\n",
    "\n",
    "for col in X1.columns:\n",
    "    lb = LabelEncoder()\n",
    "    X[col] = lb.fit_transform(X1[col].values)\n",
    "X"
   ]
  },
  {
   "cell_type": "code",
   "execution_count": 173,
   "id": "a9d623b7",
   "metadata": {},
   "outputs": [],
   "source": [
    "# Feature scaling \n",
    "scaler = StandardScaler(copy=True, with_mean=True, with_std=True)\n",
    "X = scaler.fit_transform(X)"
   ]
  },
  {
   "cell_type": "code",
   "execution_count": 174,
   "id": "9f869537",
   "metadata": {},
   "outputs": [
    {
     "data": {
      "text/plain": [
       "array([[-1.73217213, -1.66901094, -1.97036079, ..., -1.53317672,\n",
       "        -2.07343747, -1.42522128],\n",
       "       [-1.73182548, -1.58395651, -1.96755801, ..., -1.53317672,\n",
       "        -2.07343747, -1.31090753],\n",
       "       [-1.73147884, -1.58395651, -1.96755801, ..., -1.53317672,\n",
       "        -2.07343747, -1.31090753],\n",
       "       ...,\n",
       "       [ 1.73115897,  1.31895812,  1.49107498, ...,  1.13723374,\n",
       "         1.27569434,  1.66125007],\n",
       "       [ 1.73150562,  1.31895812,  1.49107498, ...,  1.13723374,\n",
       "         1.27569434,  1.66125007],\n",
       "       [ 1.73185226,  1.53401445,  1.49107498, ...,  1.13723374,\n",
       "         1.27569434,  1.66125007]])"
      ]
     },
     "execution_count": 174,
     "metadata": {},
     "output_type": "execute_result"
    }
   ],
   "source": [
    "X"
   ]
  },
  {
   "cell_type": "code",
   "execution_count": 175,
   "id": "233a71bb",
   "metadata": {},
   "outputs": [],
   "source": [
    "# Splitting the data to train and test set\n",
    "X_train, X_test, y_train, y_test = train_test_split(X, y, test_size=0.33, random_state=44, shuffle =True)"
   ]
  },
  {
   "cell_type": "markdown",
   "id": "05375c73",
   "metadata": {},
   "source": [
    "# "
   ]
  },
  {
   "cell_type": "markdown",
   "id": "421faa58",
   "metadata": {},
   "source": [
    "# Developing the model"
   ]
  },
  {
   "cell_type": "code",
   "execution_count": 176,
   "id": "3f25fb38",
   "metadata": {},
   "outputs": [],
   "source": [
    "# Developing linear regression model\n",
    "LinearRegressionModel = LinearRegression(fit_intercept=True,copy_X=True,n_jobs=-1)"
   ]
  },
  {
   "cell_type": "code",
   "execution_count": 177,
   "id": "adc435b6",
   "metadata": {},
   "outputs": [
    {
     "data": {
      "text/html": [
       "<style>#sk-container-id-24 {color: black;}#sk-container-id-24 pre{padding: 0;}#sk-container-id-24 div.sk-toggleable {background-color: white;}#sk-container-id-24 label.sk-toggleable__label {cursor: pointer;display: block;width: 100%;margin-bottom: 0;padding: 0.3em;box-sizing: border-box;text-align: center;}#sk-container-id-24 label.sk-toggleable__label-arrow:before {content: \"▸\";float: left;margin-right: 0.25em;color: #696969;}#sk-container-id-24 label.sk-toggleable__label-arrow:hover:before {color: black;}#sk-container-id-24 div.sk-estimator:hover label.sk-toggleable__label-arrow:before {color: black;}#sk-container-id-24 div.sk-toggleable__content {max-height: 0;max-width: 0;overflow: hidden;text-align: left;background-color: #f0f8ff;}#sk-container-id-24 div.sk-toggleable__content pre {margin: 0.2em;color: black;border-radius: 0.25em;background-color: #f0f8ff;}#sk-container-id-24 input.sk-toggleable__control:checked~div.sk-toggleable__content {max-height: 200px;max-width: 100%;overflow: auto;}#sk-container-id-24 input.sk-toggleable__control:checked~label.sk-toggleable__label-arrow:before {content: \"▾\";}#sk-container-id-24 div.sk-estimator input.sk-toggleable__control:checked~label.sk-toggleable__label {background-color: #d4ebff;}#sk-container-id-24 div.sk-label input.sk-toggleable__control:checked~label.sk-toggleable__label {background-color: #d4ebff;}#sk-container-id-24 input.sk-hidden--visually {border: 0;clip: rect(1px 1px 1px 1px);clip: rect(1px, 1px, 1px, 1px);height: 1px;margin: -1px;overflow: hidden;padding: 0;position: absolute;width: 1px;}#sk-container-id-24 div.sk-estimator {font-family: monospace;background-color: #f0f8ff;border: 1px dotted black;border-radius: 0.25em;box-sizing: border-box;margin-bottom: 0.5em;}#sk-container-id-24 div.sk-estimator:hover {background-color: #d4ebff;}#sk-container-id-24 div.sk-parallel-item::after {content: \"\";width: 100%;border-bottom: 1px solid gray;flex-grow: 1;}#sk-container-id-24 div.sk-label:hover label.sk-toggleable__label {background-color: #d4ebff;}#sk-container-id-24 div.sk-serial::before {content: \"\";position: absolute;border-left: 1px solid gray;box-sizing: border-box;top: 0;bottom: 0;left: 50%;z-index: 0;}#sk-container-id-24 div.sk-serial {display: flex;flex-direction: column;align-items: center;background-color: white;padding-right: 0.2em;padding-left: 0.2em;position: relative;}#sk-container-id-24 div.sk-item {position: relative;z-index: 1;}#sk-container-id-24 div.sk-parallel {display: flex;align-items: stretch;justify-content: center;background-color: white;position: relative;}#sk-container-id-24 div.sk-item::before, #sk-container-id-24 div.sk-parallel-item::before {content: \"\";position: absolute;border-left: 1px solid gray;box-sizing: border-box;top: 0;bottom: 0;left: 50%;z-index: -1;}#sk-container-id-24 div.sk-parallel-item {display: flex;flex-direction: column;z-index: 1;position: relative;background-color: white;}#sk-container-id-24 div.sk-parallel-item:first-child::after {align-self: flex-end;width: 50%;}#sk-container-id-24 div.sk-parallel-item:last-child::after {align-self: flex-start;width: 50%;}#sk-container-id-24 div.sk-parallel-item:only-child::after {width: 0;}#sk-container-id-24 div.sk-dashed-wrapped {border: 1px dashed gray;margin: 0 0.4em 0.5em 0.4em;box-sizing: border-box;padding-bottom: 0.4em;background-color: white;}#sk-container-id-24 div.sk-label label {font-family: monospace;font-weight: bold;display: inline-block;line-height: 1.2em;}#sk-container-id-24 div.sk-label-container {text-align: center;}#sk-container-id-24 div.sk-container {/* jupyter's `normalize.less` sets `[hidden] { display: none; }` but bootstrap.min.css set `[hidden] { display: none !important; }` so we also need the `!important` here to be able to override the default hidden behavior on the sphinx rendered scikit-learn.org. See: https://github.com/scikit-learn/scikit-learn/issues/21755 */display: inline-block !important;position: relative;}#sk-container-id-24 div.sk-text-repr-fallback {display: none;}</style><div id=\"sk-container-id-24\" class=\"sk-top-container\"><div class=\"sk-text-repr-fallback\"><pre>LinearRegression(n_jobs=-1)</pre><b>In a Jupyter environment, please rerun this cell to show the HTML representation or trust the notebook. <br />On GitHub, the HTML representation is unable to render, please try loading this page with nbviewer.org.</b></div><div class=\"sk-container\" hidden><div class=\"sk-item\"><div class=\"sk-estimator sk-toggleable\"><input class=\"sk-toggleable__control sk-hidden--visually\" id=\"sk-estimator-id-30\" type=\"checkbox\" checked><label for=\"sk-estimator-id-30\" class=\"sk-toggleable__label sk-toggleable__label-arrow\">LinearRegression</label><div class=\"sk-toggleable__content\"><pre>LinearRegression(n_jobs=-1)</pre></div></div></div></div></div>"
      ],
      "text/plain": [
       "LinearRegression(n_jobs=-1)"
      ]
     },
     "execution_count": 177,
     "metadata": {},
     "output_type": "execute_result"
    }
   ],
   "source": [
    "# Fitting the model\n",
    "LinearRegressionModel.fit(X_train, y_train)"
   ]
  },
  {
   "cell_type": "code",
   "execution_count": 178,
   "id": "25b3d7e9",
   "metadata": {},
   "outputs": [
    {
     "data": {
      "text/plain": [
       "0.2420118870520328"
      ]
     },
     "execution_count": 178,
     "metadata": {},
     "output_type": "execute_result"
    }
   ],
   "source": [
    "# Identifing the score of training set\n",
    "LinearRegressionModel.score(X_train,y_train)"
   ]
  },
  {
   "cell_type": "code",
   "execution_count": 179,
   "id": "02fe4d96",
   "metadata": {},
   "outputs": [
    {
     "data": {
      "text/plain": [
       "0.3672910811454203"
      ]
     },
     "execution_count": 179,
     "metadata": {},
     "output_type": "execute_result"
    }
   ],
   "source": [
    "# Identifing the score of test set\n",
    "LinearRegressionModel.score(X_test, y_test)"
   ]
  },
  {
   "cell_type": "markdown",
   "id": "4b758fde",
   "metadata": {},
   "source": [
    "# "
   ]
  },
  {
   "cell_type": "code",
   "execution_count": 180,
   "id": "3cda0214",
   "metadata": {},
   "outputs": [],
   "source": [
    "# Developing Random forest model\n",
    "RandomForestRegressorModel = RandomForestRegressor(random_state=33)"
   ]
  },
  {
   "cell_type": "code",
   "execution_count": 181,
   "id": "e65afd7c",
   "metadata": {},
   "outputs": [],
   "source": [
    "# The model parameters\n",
    "SelectedParameters = {'max_depth':[2,3,4,5,6], 'n_estimators':[100,200,300]}"
   ]
  },
  {
   "cell_type": "code",
   "execution_count": 182,
   "id": "97745a2e",
   "metadata": {},
   "outputs": [],
   "source": [
    "# Using Grid search to select the best parameters\n",
    "GridSearchModel = GridSearchCV(RandomForestRegressorModel,SelectedParameters, cv = 2,return_train_score=True)"
   ]
  },
  {
   "cell_type": "code",
   "execution_count": 183,
   "id": "ff75fbb8",
   "metadata": {},
   "outputs": [
    {
     "data": {
      "text/html": [
       "<style>#sk-container-id-25 {color: black;}#sk-container-id-25 pre{padding: 0;}#sk-container-id-25 div.sk-toggleable {background-color: white;}#sk-container-id-25 label.sk-toggleable__label {cursor: pointer;display: block;width: 100%;margin-bottom: 0;padding: 0.3em;box-sizing: border-box;text-align: center;}#sk-container-id-25 label.sk-toggleable__label-arrow:before {content: \"▸\";float: left;margin-right: 0.25em;color: #696969;}#sk-container-id-25 label.sk-toggleable__label-arrow:hover:before {color: black;}#sk-container-id-25 div.sk-estimator:hover label.sk-toggleable__label-arrow:before {color: black;}#sk-container-id-25 div.sk-toggleable__content {max-height: 0;max-width: 0;overflow: hidden;text-align: left;background-color: #f0f8ff;}#sk-container-id-25 div.sk-toggleable__content pre {margin: 0.2em;color: black;border-radius: 0.25em;background-color: #f0f8ff;}#sk-container-id-25 input.sk-toggleable__control:checked~div.sk-toggleable__content {max-height: 200px;max-width: 100%;overflow: auto;}#sk-container-id-25 input.sk-toggleable__control:checked~label.sk-toggleable__label-arrow:before {content: \"▾\";}#sk-container-id-25 div.sk-estimator input.sk-toggleable__control:checked~label.sk-toggleable__label {background-color: #d4ebff;}#sk-container-id-25 div.sk-label input.sk-toggleable__control:checked~label.sk-toggleable__label {background-color: #d4ebff;}#sk-container-id-25 input.sk-hidden--visually {border: 0;clip: rect(1px 1px 1px 1px);clip: rect(1px, 1px, 1px, 1px);height: 1px;margin: -1px;overflow: hidden;padding: 0;position: absolute;width: 1px;}#sk-container-id-25 div.sk-estimator {font-family: monospace;background-color: #f0f8ff;border: 1px dotted black;border-radius: 0.25em;box-sizing: border-box;margin-bottom: 0.5em;}#sk-container-id-25 div.sk-estimator:hover {background-color: #d4ebff;}#sk-container-id-25 div.sk-parallel-item::after {content: \"\";width: 100%;border-bottom: 1px solid gray;flex-grow: 1;}#sk-container-id-25 div.sk-label:hover label.sk-toggleable__label {background-color: #d4ebff;}#sk-container-id-25 div.sk-serial::before {content: \"\";position: absolute;border-left: 1px solid gray;box-sizing: border-box;top: 0;bottom: 0;left: 50%;z-index: 0;}#sk-container-id-25 div.sk-serial {display: flex;flex-direction: column;align-items: center;background-color: white;padding-right: 0.2em;padding-left: 0.2em;position: relative;}#sk-container-id-25 div.sk-item {position: relative;z-index: 1;}#sk-container-id-25 div.sk-parallel {display: flex;align-items: stretch;justify-content: center;background-color: white;position: relative;}#sk-container-id-25 div.sk-item::before, #sk-container-id-25 div.sk-parallel-item::before {content: \"\";position: absolute;border-left: 1px solid gray;box-sizing: border-box;top: 0;bottom: 0;left: 50%;z-index: -1;}#sk-container-id-25 div.sk-parallel-item {display: flex;flex-direction: column;z-index: 1;position: relative;background-color: white;}#sk-container-id-25 div.sk-parallel-item:first-child::after {align-self: flex-end;width: 50%;}#sk-container-id-25 div.sk-parallel-item:last-child::after {align-self: flex-start;width: 50%;}#sk-container-id-25 div.sk-parallel-item:only-child::after {width: 0;}#sk-container-id-25 div.sk-dashed-wrapped {border: 1px dashed gray;margin: 0 0.4em 0.5em 0.4em;box-sizing: border-box;padding-bottom: 0.4em;background-color: white;}#sk-container-id-25 div.sk-label label {font-family: monospace;font-weight: bold;display: inline-block;line-height: 1.2em;}#sk-container-id-25 div.sk-label-container {text-align: center;}#sk-container-id-25 div.sk-container {/* jupyter's `normalize.less` sets `[hidden] { display: none; }` but bootstrap.min.css set `[hidden] { display: none !important; }` so we also need the `!important` here to be able to override the default hidden behavior on the sphinx rendered scikit-learn.org. See: https://github.com/scikit-learn/scikit-learn/issues/21755 */display: inline-block !important;position: relative;}#sk-container-id-25 div.sk-text-repr-fallback {display: none;}</style><div id=\"sk-container-id-25\" class=\"sk-top-container\"><div class=\"sk-text-repr-fallback\"><pre>GridSearchCV(cv=2, estimator=RandomForestRegressor(random_state=33),\n",
       "             param_grid={&#x27;max_depth&#x27;: [2, 3, 4, 5, 6],\n",
       "                         &#x27;n_estimators&#x27;: [100, 200, 300]},\n",
       "             return_train_score=True)</pre><b>In a Jupyter environment, please rerun this cell to show the HTML representation or trust the notebook. <br />On GitHub, the HTML representation is unable to render, please try loading this page with nbviewer.org.</b></div><div class=\"sk-container\" hidden><div class=\"sk-item sk-dashed-wrapped\"><div class=\"sk-label-container\"><div class=\"sk-label sk-toggleable\"><input class=\"sk-toggleable__control sk-hidden--visually\" id=\"sk-estimator-id-31\" type=\"checkbox\" ><label for=\"sk-estimator-id-31\" class=\"sk-toggleable__label sk-toggleable__label-arrow\">GridSearchCV</label><div class=\"sk-toggleable__content\"><pre>GridSearchCV(cv=2, estimator=RandomForestRegressor(random_state=33),\n",
       "             param_grid={&#x27;max_depth&#x27;: [2, 3, 4, 5, 6],\n",
       "                         &#x27;n_estimators&#x27;: [100, 200, 300]},\n",
       "             return_train_score=True)</pre></div></div></div><div class=\"sk-parallel\"><div class=\"sk-parallel-item\"><div class=\"sk-item\"><div class=\"sk-label-container\"><div class=\"sk-label sk-toggleable\"><input class=\"sk-toggleable__control sk-hidden--visually\" id=\"sk-estimator-id-32\" type=\"checkbox\" ><label for=\"sk-estimator-id-32\" class=\"sk-toggleable__label sk-toggleable__label-arrow\">estimator: RandomForestRegressor</label><div class=\"sk-toggleable__content\"><pre>RandomForestRegressor(random_state=33)</pre></div></div></div><div class=\"sk-serial\"><div class=\"sk-item\"><div class=\"sk-estimator sk-toggleable\"><input class=\"sk-toggleable__control sk-hidden--visually\" id=\"sk-estimator-id-33\" type=\"checkbox\" ><label for=\"sk-estimator-id-33\" class=\"sk-toggleable__label sk-toggleable__label-arrow\">RandomForestRegressor</label><div class=\"sk-toggleable__content\"><pre>RandomForestRegressor(random_state=33)</pre></div></div></div></div></div></div></div></div></div></div>"
      ],
      "text/plain": [
       "GridSearchCV(cv=2, estimator=RandomForestRegressor(random_state=33),\n",
       "             param_grid={'max_depth': [2, 3, 4, 5, 6],\n",
       "                         'n_estimators': [100, 200, 300]},\n",
       "             return_train_score=True)"
      ]
     },
     "execution_count": 183,
     "metadata": {},
     "output_type": "execute_result"
    }
   ],
   "source": [
    "# Fitting the data\n",
    "GridSearchModel.fit(X_train, y_train)"
   ]
  },
  {
   "cell_type": "code",
   "execution_count": 184,
   "id": "80abf5dc",
   "metadata": {},
   "outputs": [
    {
     "data": {
      "text/plain": [
       "0.9392945008650454"
      ]
     },
     "execution_count": 184,
     "metadata": {},
     "output_type": "execute_result"
    }
   ],
   "source": [
    "# Grid search for training set\n",
    "GridSearchModel.score(X_train, y_train)"
   ]
  },
  {
   "cell_type": "code",
   "execution_count": 185,
   "id": "b92b955f",
   "metadata": {},
   "outputs": [
    {
     "data": {
      "text/plain": [
       "0.7495454179681348"
      ]
     },
     "execution_count": 185,
     "metadata": {},
     "output_type": "execute_result"
    }
   ],
   "source": [
    "# Grid search for test set\n",
    "GridSearchModel.score(X_test, y_test)"
   ]
  },
  {
   "cell_type": "markdown",
   "id": "7691c2d8",
   "metadata": {},
   "source": [
    "# "
   ]
  },
  {
   "cell_type": "markdown",
   "id": "72ecf344",
   "metadata": {},
   "source": [
    "## Evaluating the model "
   ]
  },
  {
   "cell_type": "code",
   "execution_count": 186,
   "id": "92286772",
   "metadata": {},
   "outputs": [],
   "source": [
    "# Using the model for prediction\n",
    "y_pred=GridSearchModel.predict(X_test)"
   ]
  },
  {
   "cell_type": "code",
   "execution_count": 187,
   "id": "07845a92",
   "metadata": {},
   "outputs": [],
   "source": [
    "# Calculating mean absolute error\n",
    "MAE = mean_absolute_error(y_test,y_pred)"
   ]
  },
  {
   "cell_type": "code",
   "execution_count": 188,
   "id": "65501b7b",
   "metadata": {},
   "outputs": [],
   "source": [
    "# Calculating mean square error\n",
    "MSE = mean_squared_error(y_test,y_pred)"
   ]
  },
  {
   "cell_type": "code",
   "execution_count": 189,
   "id": "968fe6e2",
   "metadata": {},
   "outputs": [
    {
     "data": {
      "text/plain": [
       "21.292048123477354"
      ]
     },
     "execution_count": 189,
     "metadata": {},
     "output_type": "execute_result"
    }
   ],
   "source": [
    "MAE"
   ]
  },
  {
   "cell_type": "code",
   "execution_count": 190,
   "id": "2ac31873",
   "metadata": {},
   "outputs": [
    {
     "data": {
      "text/plain": [
       "14853.692292343887"
      ]
     },
     "execution_count": 190,
     "metadata": {},
     "output_type": "execute_result"
    }
   ],
   "source": [
    "MSE"
   ]
  },
  {
   "cell_type": "markdown",
   "id": "b9d04521",
   "metadata": {},
   "source": [
    "# "
   ]
  },
  {
   "cell_type": "markdown",
   "id": "8f4ac893",
   "metadata": {},
   "source": [
    "# Conclusion\n",
    "## Linear regression model performs badly on the data due to data complexity.\n",
    "## Random forest do well with Grid Search and resulted in score of 75% to the test data. \n"
   ]
  },
  {
   "cell_type": "code",
   "execution_count": null,
   "id": "3de4e999",
   "metadata": {},
   "outputs": [],
   "source": []
  }
 ],
 "metadata": {
  "kernelspec": {
   "display_name": "Python 3 (ipykernel)",
   "language": "python",
   "name": "python3"
  },
  "language_info": {
   "codemirror_mode": {
    "name": "ipython",
    "version": 3
   },
   "file_extension": ".py",
   "mimetype": "text/x-python",
   "name": "python",
   "nbconvert_exporter": "python",
   "pygments_lexer": "ipython3",
   "version": "3.9.13"
  }
 },
 "nbformat": 4,
 "nbformat_minor": 5
}
