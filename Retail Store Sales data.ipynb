{
 "cells": [
  {
   "cell_type": "markdown",
   "id": "871a98a9",
   "metadata": {},
   "source": [
    "# Description of the Notebook: \n",
    "## Purpose:\n",
    "#### This Jupyter Notebook analyzes sales data from a retail store using Python libraries such as Pandas, NumPy, Matplotlib, and Seaborn. The key objectives include:\n",
    "##### >Data Cleaning: Identifying and removing duplicates, handling missing values, and ensuring data consistency.\n",
    "##### >Exploratory Data Analysis (EDA): Visualizing trends and patterns related to sales, profits, and customer behavior.\n",
    "##### >Insights Extraction: Gaining actionable insights to understand product performance and optimize sales strategies.\n",
    "\n"
   ]
  },
  {
   "cell_type": "markdown",
   "id": "e6ac1312",
   "metadata": {},
   "source": [
    "## Importing required libiraries"
   ]
  },
  {
   "cell_type": "code",
   "execution_count": 2,
   "id": "1e136358",
   "metadata": {},
   "outputs": [
    {
     "name": "stderr",
     "output_type": "stream",
     "text": [
      "C:\\Users\\DELL\\anaconda3\\lib\\site-packages\\scipy\\__init__.py:155: UserWarning: A NumPy version >=1.18.5 and <1.25.0 is required for this version of SciPy (detected version 1.26.4\n",
      "  warnings.warn(f\"A NumPy version >={np_minversion} and <{np_maxversion}\"\n"
     ]
    }
   ],
   "source": [
    "from numpy import *\n",
    "from pandas import *\n",
    "import seaborn as sns\n",
    "import matplotlib.pyplot as plt"
   ]
  },
  {
   "cell_type": "markdown",
   "id": "fca854e8",
   "metadata": {},
   "source": [
    "## Reading data "
   ]
  },
  {
   "cell_type": "code",
   "execution_count": 3,
   "id": "e08fceb6",
   "metadata": {},
   "outputs": [
    {
     "ename": "FileNotFoundError",
     "evalue": "[Errno 2] No such file or directory: 'C:\\\\Users\\\\DELL\\\\Documents\\\\Sales\\\\superstore_dataset.csv'",
     "output_type": "error",
     "traceback": [
      "\u001b[1;31m---------------------------------------------------------------------------\u001b[0m",
      "\u001b[1;31mFileNotFoundError\u001b[0m                         Traceback (most recent call last)",
      "\u001b[1;32m~\\AppData\\Local\\Temp\\ipykernel_16844\\1407457167.py\u001b[0m in \u001b[0;36m<module>\u001b[1;34m\u001b[0m\n\u001b[1;32m----> 1\u001b[1;33m \u001b[0mSales_data\u001b[0m\u001b[1;33m=\u001b[0m\u001b[0mread_csv\u001b[0m\u001b[1;33m(\u001b[0m\u001b[1;34mr\"C:\\Users\\DELL\\Documents\\Sales\\superstore_dataset.csv\"\u001b[0m\u001b[1;33m)\u001b[0m\u001b[1;33m\u001b[0m\u001b[1;33m\u001b[0m\u001b[0m\n\u001b[0m",
      "\u001b[1;32m~\\anaconda3\\lib\\site-packages\\pandas\\util\\_decorators.py\u001b[0m in \u001b[0;36mwrapper\u001b[1;34m(*args, **kwargs)\u001b[0m\n\u001b[0;32m    309\u001b[0m                     \u001b[0mstacklevel\u001b[0m\u001b[1;33m=\u001b[0m\u001b[0mstacklevel\u001b[0m\u001b[1;33m,\u001b[0m\u001b[1;33m\u001b[0m\u001b[1;33m\u001b[0m\u001b[0m\n\u001b[0;32m    310\u001b[0m                 )\n\u001b[1;32m--> 311\u001b[1;33m             \u001b[1;32mreturn\u001b[0m \u001b[0mfunc\u001b[0m\u001b[1;33m(\u001b[0m\u001b[1;33m*\u001b[0m\u001b[0margs\u001b[0m\u001b[1;33m,\u001b[0m \u001b[1;33m**\u001b[0m\u001b[0mkwargs\u001b[0m\u001b[1;33m)\u001b[0m\u001b[1;33m\u001b[0m\u001b[1;33m\u001b[0m\u001b[0m\n\u001b[0m\u001b[0;32m    312\u001b[0m \u001b[1;33m\u001b[0m\u001b[0m\n\u001b[0;32m    313\u001b[0m         \u001b[1;32mreturn\u001b[0m \u001b[0mwrapper\u001b[0m\u001b[1;33m\u001b[0m\u001b[1;33m\u001b[0m\u001b[0m\n",
      "\u001b[1;32m~\\anaconda3\\lib\\site-packages\\pandas\\io\\parsers\\readers.py\u001b[0m in \u001b[0;36mread_csv\u001b[1;34m(filepath_or_buffer, sep, delimiter, header, names, index_col, usecols, squeeze, prefix, mangle_dupe_cols, dtype, engine, converters, true_values, false_values, skipinitialspace, skiprows, skipfooter, nrows, na_values, keep_default_na, na_filter, verbose, skip_blank_lines, parse_dates, infer_datetime_format, keep_date_col, date_parser, dayfirst, cache_dates, iterator, chunksize, compression, thousands, decimal, lineterminator, quotechar, quoting, doublequote, escapechar, comment, encoding, encoding_errors, dialect, error_bad_lines, warn_bad_lines, on_bad_lines, delim_whitespace, low_memory, memory_map, float_precision, storage_options)\u001b[0m\n\u001b[0;32m    676\u001b[0m     \u001b[0mkwds\u001b[0m\u001b[1;33m.\u001b[0m\u001b[0mupdate\u001b[0m\u001b[1;33m(\u001b[0m\u001b[0mkwds_defaults\u001b[0m\u001b[1;33m)\u001b[0m\u001b[1;33m\u001b[0m\u001b[1;33m\u001b[0m\u001b[0m\n\u001b[0;32m    677\u001b[0m \u001b[1;33m\u001b[0m\u001b[0m\n\u001b[1;32m--> 678\u001b[1;33m     \u001b[1;32mreturn\u001b[0m \u001b[0m_read\u001b[0m\u001b[1;33m(\u001b[0m\u001b[0mfilepath_or_buffer\u001b[0m\u001b[1;33m,\u001b[0m \u001b[0mkwds\u001b[0m\u001b[1;33m)\u001b[0m\u001b[1;33m\u001b[0m\u001b[1;33m\u001b[0m\u001b[0m\n\u001b[0m\u001b[0;32m    679\u001b[0m \u001b[1;33m\u001b[0m\u001b[0m\n\u001b[0;32m    680\u001b[0m \u001b[1;33m\u001b[0m\u001b[0m\n",
      "\u001b[1;32m~\\anaconda3\\lib\\site-packages\\pandas\\io\\parsers\\readers.py\u001b[0m in \u001b[0;36m_read\u001b[1;34m(filepath_or_buffer, kwds)\u001b[0m\n\u001b[0;32m    573\u001b[0m \u001b[1;33m\u001b[0m\u001b[0m\n\u001b[0;32m    574\u001b[0m     \u001b[1;31m# Create the parser.\u001b[0m\u001b[1;33m\u001b[0m\u001b[1;33m\u001b[0m\u001b[0m\n\u001b[1;32m--> 575\u001b[1;33m     \u001b[0mparser\u001b[0m \u001b[1;33m=\u001b[0m \u001b[0mTextFileReader\u001b[0m\u001b[1;33m(\u001b[0m\u001b[0mfilepath_or_buffer\u001b[0m\u001b[1;33m,\u001b[0m \u001b[1;33m**\u001b[0m\u001b[0mkwds\u001b[0m\u001b[1;33m)\u001b[0m\u001b[1;33m\u001b[0m\u001b[1;33m\u001b[0m\u001b[0m\n\u001b[0m\u001b[0;32m    576\u001b[0m \u001b[1;33m\u001b[0m\u001b[0m\n\u001b[0;32m    577\u001b[0m     \u001b[1;32mif\u001b[0m \u001b[0mchunksize\u001b[0m \u001b[1;32mor\u001b[0m \u001b[0miterator\u001b[0m\u001b[1;33m:\u001b[0m\u001b[1;33m\u001b[0m\u001b[1;33m\u001b[0m\u001b[0m\n",
      "\u001b[1;32m~\\anaconda3\\lib\\site-packages\\pandas\\io\\parsers\\readers.py\u001b[0m in \u001b[0;36m__init__\u001b[1;34m(self, f, engine, **kwds)\u001b[0m\n\u001b[0;32m    930\u001b[0m \u001b[1;33m\u001b[0m\u001b[0m\n\u001b[0;32m    931\u001b[0m         \u001b[0mself\u001b[0m\u001b[1;33m.\u001b[0m\u001b[0mhandles\u001b[0m\u001b[1;33m:\u001b[0m \u001b[0mIOHandles\u001b[0m \u001b[1;33m|\u001b[0m \u001b[1;32mNone\u001b[0m \u001b[1;33m=\u001b[0m \u001b[1;32mNone\u001b[0m\u001b[1;33m\u001b[0m\u001b[1;33m\u001b[0m\u001b[0m\n\u001b[1;32m--> 932\u001b[1;33m         \u001b[0mself\u001b[0m\u001b[1;33m.\u001b[0m\u001b[0m_engine\u001b[0m \u001b[1;33m=\u001b[0m \u001b[0mself\u001b[0m\u001b[1;33m.\u001b[0m\u001b[0m_make_engine\u001b[0m\u001b[1;33m(\u001b[0m\u001b[0mf\u001b[0m\u001b[1;33m,\u001b[0m \u001b[0mself\u001b[0m\u001b[1;33m.\u001b[0m\u001b[0mengine\u001b[0m\u001b[1;33m)\u001b[0m\u001b[1;33m\u001b[0m\u001b[1;33m\u001b[0m\u001b[0m\n\u001b[0m\u001b[0;32m    933\u001b[0m \u001b[1;33m\u001b[0m\u001b[0m\n\u001b[0;32m    934\u001b[0m     \u001b[1;32mdef\u001b[0m \u001b[0mclose\u001b[0m\u001b[1;33m(\u001b[0m\u001b[0mself\u001b[0m\u001b[1;33m)\u001b[0m\u001b[1;33m:\u001b[0m\u001b[1;33m\u001b[0m\u001b[1;33m\u001b[0m\u001b[0m\n",
      "\u001b[1;32m~\\anaconda3\\lib\\site-packages\\pandas\\io\\parsers\\readers.py\u001b[0m in \u001b[0;36m_make_engine\u001b[1;34m(self, f, engine)\u001b[0m\n\u001b[0;32m   1214\u001b[0m             \u001b[1;31m# \"Union[str, PathLike[str], ReadCsvBuffer[bytes], ReadCsvBuffer[str]]\"\u001b[0m\u001b[1;33m\u001b[0m\u001b[1;33m\u001b[0m\u001b[0m\n\u001b[0;32m   1215\u001b[0m             \u001b[1;31m# , \"str\", \"bool\", \"Any\", \"Any\", \"Any\", \"Any\", \"Any\"\u001b[0m\u001b[1;33m\u001b[0m\u001b[1;33m\u001b[0m\u001b[0m\n\u001b[1;32m-> 1216\u001b[1;33m             self.handles = get_handle(  # type: ignore[call-overload]\n\u001b[0m\u001b[0;32m   1217\u001b[0m                 \u001b[0mf\u001b[0m\u001b[1;33m,\u001b[0m\u001b[1;33m\u001b[0m\u001b[1;33m\u001b[0m\u001b[0m\n\u001b[0;32m   1218\u001b[0m                 \u001b[0mmode\u001b[0m\u001b[1;33m,\u001b[0m\u001b[1;33m\u001b[0m\u001b[1;33m\u001b[0m\u001b[0m\n",
      "\u001b[1;32m~\\anaconda3\\lib\\site-packages\\pandas\\io\\common.py\u001b[0m in \u001b[0;36mget_handle\u001b[1;34m(path_or_buf, mode, encoding, compression, memory_map, is_text, errors, storage_options)\u001b[0m\n\u001b[0;32m    784\u001b[0m         \u001b[1;32mif\u001b[0m \u001b[0mioargs\u001b[0m\u001b[1;33m.\u001b[0m\u001b[0mencoding\u001b[0m \u001b[1;32mand\u001b[0m \u001b[1;34m\"b\"\u001b[0m \u001b[1;32mnot\u001b[0m \u001b[1;32min\u001b[0m \u001b[0mioargs\u001b[0m\u001b[1;33m.\u001b[0m\u001b[0mmode\u001b[0m\u001b[1;33m:\u001b[0m\u001b[1;33m\u001b[0m\u001b[1;33m\u001b[0m\u001b[0m\n\u001b[0;32m    785\u001b[0m             \u001b[1;31m# Encoding\u001b[0m\u001b[1;33m\u001b[0m\u001b[1;33m\u001b[0m\u001b[0m\n\u001b[1;32m--> 786\u001b[1;33m             handle = open(\n\u001b[0m\u001b[0;32m    787\u001b[0m                 \u001b[0mhandle\u001b[0m\u001b[1;33m,\u001b[0m\u001b[1;33m\u001b[0m\u001b[1;33m\u001b[0m\u001b[0m\n\u001b[0;32m    788\u001b[0m                 \u001b[0mioargs\u001b[0m\u001b[1;33m.\u001b[0m\u001b[0mmode\u001b[0m\u001b[1;33m,\u001b[0m\u001b[1;33m\u001b[0m\u001b[1;33m\u001b[0m\u001b[0m\n",
      "\u001b[1;31mFileNotFoundError\u001b[0m: [Errno 2] No such file or directory: 'C:\\\\Users\\\\DELL\\\\Documents\\\\Sales\\\\superstore_dataset.csv'"
     ]
    }
   ],
   "source": [
    "Sales_data=read_csv(r\"C:\\Users\\DELL\\Documents\\Sales\\superstore_dataset.csv\")"
   ]
  },
  {
   "cell_type": "code",
   "execution_count": null,
   "id": "006c8beb",
   "metadata": {},
   "outputs": [],
   "source": [
    "Sales_data.head()"
   ]
  },
  {
   "cell_type": "code",
   "execution_count": null,
   "id": "77487794",
   "metadata": {},
   "outputs": [],
   "source": [
    "Sales_data.shape"
   ]
  },
  {
   "cell_type": "markdown",
   "id": "cc6bb924",
   "metadata": {},
   "source": [
    "# Data Cleaning and Preprocessing"
   ]
  },
  {
   "cell_type": "code",
   "execution_count": null,
   "id": "bddb9325",
   "metadata": {},
   "outputs": [],
   "source": [
    "Sales_data.columns"
   ]
  },
  {
   "cell_type": "code",
   "execution_count": null,
   "id": "508068c3",
   "metadata": {},
   "outputs": [],
   "source": [
    "# Checking the data for null values\n",
    "Sales_data.isnull().sum()"
   ]
  },
  {
   "cell_type": "code",
   "execution_count": null,
   "id": "282fc47a",
   "metadata": {},
   "outputs": [],
   "source": [
    "#Checking the data for duplicate values\n",
    "Sales_data.duplicated().sum()"
   ]
  },
  {
   "cell_type": "code",
   "execution_count": null,
   "id": "b1fa2b15",
   "metadata": {},
   "outputs": [],
   "source": [
    "# Dropping duplicate values \n",
    "Sales_data=Sales_data.drop_duplicates()"
   ]
  },
  {
   "cell_type": "code",
   "execution_count": null,
   "id": "a009bf3f",
   "metadata": {},
   "outputs": [],
   "source": [
    "Sales_data.shape"
   ]
  },
  {
   "cell_type": "code",
   "execution_count": null,
   "id": "79afeeba",
   "metadata": {},
   "outputs": [],
   "source": [
    "# Visualising all numerical data using Box plot to check data for outliers\n",
    "numerical_cols =Sales_data.select_dtypes(include=['number'])\n",
    "# Set the style for the plots\n",
    "sns.set(style=\"whitegrid\")\n",
    "# Create a box plot for each numerical column\n",
    "plt.figure(figsize=(15, 8))  # Adjust the figure size as needed\n",
    "for i, column in enumerate(numerical_cols.columns, 1):\n",
    "    plt.subplot(1, len(numerical_cols.columns), i)  # Create subplots\n",
    "    sns.boxplot(y=Sales_data[column], color=\"skyblue\")\n",
    "    plt.title(column)\n",
    "    plt.xlabel(\"Value\")\n",
    "    plt.ylabel(column)"
   ]
  },
  {
   "cell_type": "code",
   "execution_count": null,
   "id": "1a7762ba",
   "metadata": {},
   "outputs": [],
   "source": [
    "# Using scattering plot to discover outliers in numerical features\n",
    "sns.pairplot(Sales_data.select_dtypes(include='number'))\n",
    "plt.show()"
   ]
  },
  {
   "cell_type": "code",
   "execution_count": null,
   "id": "3f83e345",
   "metadata": {},
   "outputs": [],
   "source": [
    "Sales_data.info()"
   ]
  },
  {
   "cell_type": "code",
   "execution_count": null,
   "id": "1909a700",
   "metadata": {},
   "outputs": [],
   "source": [
    "# Adjusting data types\n",
    "Sales_data[\"order_date\"]=to_datetime(Sales_data['order_date'], errors='coerce')\n",
    "Sales_data[\"ship_date\"]=to_datetime(Sales_data['ship_date'], errors='coerce')\n",
    "Sales_data[\"discount\"]=Sales_data[\"discount\"].astype(str)"
   ]
  },
  {
   "cell_type": "code",
   "execution_count": null,
   "id": "bd024f76",
   "metadata": {},
   "outputs": [],
   "source": [
    "# Creating new features (Year,Month,Day) from order date\n",
    "Sales_data['Year'] = Sales_data['order_date'].dt.year\n",
    "Sales_data['Month'] = Sales_data['order_date'].dt.month\n",
    "Sales_data['Day'] = Sales_data['order_date'].dt.day"
   ]
  },
  {
   "cell_type": "code",
   "execution_count": null,
   "id": "d22ef5b6",
   "metadata": {},
   "outputs": [],
   "source": [
    "Sales_data.info()"
   ]
  },
  {
   "cell_type": "markdown",
   "id": "3770d19c",
   "metadata": {},
   "source": [
    "# The previous section included cleaning the data to be ready for analysis and visualisation.\n",
    "### >The data included 0 null values.\n",
    "### >There are no outliers in the data.\n",
    "### >1 raw dropped due to duplicated values.\n",
    "### >Date and time features were adjusted and created new features like (Year-Month-Day) to be suitable for time series analysis. "
   ]
  },
  {
   "cell_type": "markdown",
   "id": "888a8ab1",
   "metadata": {},
   "source": [
    "# "
   ]
  },
  {
   "cell_type": "markdown",
   "id": "6cc81418",
   "metadata": {},
   "source": [
    "# Exploratory data analysis (EDA)"
   ]
  },
  {
   "cell_type": "code",
   "execution_count": null,
   "id": "93a47855",
   "metadata": {},
   "outputs": [],
   "source": [
    "# Some statistical values for numerical features\n",
    "Sales_data.describe().T"
   ]
  },
  {
   "cell_type": "markdown",
   "id": "6e3b85b0",
   "metadata": {},
   "source": [
    "### The effect of Discount on both sales and profits"
   ]
  },
  {
   "cell_type": "code",
   "execution_count": null,
   "id": "52b264cc",
   "metadata": {},
   "outputs": [],
   "source": [
    "#Defining the number of unique values in discount feature\n",
    "Sales_data[\"discount\"].unique()"
   ]
  },
  {
   "cell_type": "code",
   "execution_count": null,
   "id": "74c0f40a",
   "metadata": {},
   "outputs": [],
   "source": [
    "# Calculating the average sales and profits for each discount\n",
    "Discount_Sales_Profit_relation=Sales_data.groupby([\"discount\"])[\"sales\",\"profit\"].mean()"
   ]
  },
  {
   "cell_type": "code",
   "execution_count": null,
   "id": "e69ed306",
   "metadata": {},
   "outputs": [],
   "source": [
    "Discount_Sales_Profit_relation"
   ]
  },
  {
   "cell_type": "code",
   "execution_count": null,
   "id": "2a456b80",
   "metadata": {},
   "outputs": [],
   "source": [
    "# Visualising the result \n",
    "plt.plot(Discount_Sales_Profit_relation.index,Discount_Sales_Profit_relation[\"sales\"],color='skyblue', alpha=0.7,label='Sales')\n",
    "plt.plot(Discount_Sales_Profit_relation.index,Discount_Sales_Profit_relation[\"profit\"],color='red', marker='o',label='Profits')\n",
    "plt.title(\"Average sales and Profits over Discount\")\n",
    "plt.ylabel(\"Sales-Profits\")\n",
    "plt.xlabel(\"Discount\")\n",
    "plt.legend(loc='best')\n",
    "plt.show()"
   ]
  },
  {
   "cell_type": "markdown",
   "id": "311d3f45",
   "metadata": {},
   "source": [
    "### For the previous relation, As the discount increase, The sales increase but the profits decrease.\n",
    "### As a result we we shouldn't increase the discount over  20% to avoid negative profits."
   ]
  },
  {
   "cell_type": "markdown",
   "id": "d96a7aae",
   "metadata": {},
   "source": [
    "# "
   ]
  },
  {
   "cell_type": "markdown",
   "id": "a706d0a3",
   "metadata": {},
   "source": [
    "### Sum sales and profits per each Segment "
   ]
  },
  {
   "cell_type": "code",
   "execution_count": null,
   "id": "6e0467f1",
   "metadata": {},
   "outputs": [],
   "source": [
    "# number of unique values per each segment\n",
    "Sales_data[\"segment\"].unique()"
   ]
  },
  {
   "cell_type": "code",
   "execution_count": null,
   "id": "e35af7a3",
   "metadata": {},
   "outputs": [],
   "source": [
    "# Grouping data to calculate total Sales and profits per each segment\n",
    "Sales_Profits_Segment=Sales_data.groupby([\"segment\"])[\"sales\",\"profit\"].sum()"
   ]
  },
  {
   "cell_type": "code",
   "execution_count": null,
   "id": "835d2d79",
   "metadata": {},
   "outputs": [],
   "source": [
    "Sales_Profits_Segment"
   ]
  },
  {
   "cell_type": "code",
   "execution_count": null,
   "id": "6709b6cd",
   "metadata": {},
   "outputs": [],
   "source": [
    "# Visualising the relation between sales and profits and each segment\n",
    "plt.style.use(\"_classic_test_patch\")\n",
    "plt.bar(Sales_Profits_Segment.index,Sales_Profits_Segment[\"sales\"],color='skyblue',alpha=0.7,label='Sales')\n",
    "plt.plot(Sales_Profits_Segment.index,Sales_Profits_Segment[\"profit\"],color='red',marker='o',label='Profit')\n",
    "plt.title(\"Sales and Profits over Segment\")\n",
    "plt.ylabel(\"Sales-Profits\")\n",
    "plt.xlabel(\"Segement \")\n",
    "plt.legend(loc='best')\n",
    "plt.show()"
   ]
  },
  {
   "cell_type": "markdown",
   "id": "40cd6f10",
   "metadata": {},
   "source": [
    "## From previous relation: \n",
    "### >Consumer has the highest sales and profits.\n",
    "### >Home office has the lowest sales and profit."
   ]
  },
  {
   "cell_type": "markdown",
   "id": "d3d51a1d",
   "metadata": {},
   "source": [
    "# "
   ]
  },
  {
   "cell_type": "markdown",
   "id": "5f6108e9",
   "metadata": {},
   "source": [
    "### Sales, Profits and N of orders per each category "
   ]
  },
  {
   "cell_type": "code",
   "execution_count": null,
   "id": "91362997",
   "metadata": {},
   "outputs": [],
   "source": [
    "# N of unique categories\n",
    "Sales_data[\"category\"].unique()"
   ]
  },
  {
   "cell_type": "code",
   "execution_count": null,
   "id": "8cb111ff",
   "metadata": {},
   "outputs": [],
   "source": [
    "# Calculating the number of orders per eacg category\n",
    "Orders_per_each_category=Sales_data.groupby([\"category\"])[\"order_id\"].count().to_frame(name=\"N of orders\")"
   ]
  },
  {
   "cell_type": "code",
   "execution_count": null,
   "id": "6184c498",
   "metadata": {},
   "outputs": [],
   "source": [
    "Orders_per_each_category"
   ]
  },
  {
   "cell_type": "code",
   "execution_count": null,
   "id": "e9912442",
   "metadata": {},
   "outputs": [],
   "source": [
    "# Visualising the number of orders per each category\n",
    "plt.pie(Orders_per_each_category[\"N of orders\"],labels=Orders_per_each_category.index)\n",
    "plt.title(\"N of orders per each Caategory\")"
   ]
  },
  {
   "cell_type": "code",
   "execution_count": null,
   "id": "23d62e1d",
   "metadata": {},
   "outputs": [],
   "source": [
    "#Grouping data to calc the sales and profits per each category\n",
    "Profits_per_each_category=Sales_data.groupby([\"category\"])[\"sales\",\"profit\"].sum()"
   ]
  },
  {
   "cell_type": "code",
   "execution_count": null,
   "id": "a2503e01",
   "metadata": {},
   "outputs": [],
   "source": [
    "plt.style.use(\"_classic_test_patch\")\n",
    "plt.bar(Profits_per_each_category.index,Profits_per_each_category[\"sales\"],color='skyblue',alpha=0.7,label='Sales')\n",
    "plt.plot(Profits_per_each_category.index,Profits_per_each_category[\"profit\"],color='red',marker='o',label='Profit')\n",
    "plt.title(\"Sales and Profits over Category\")\n",
    "plt.ylabel(\"Sales-Profits\")\n",
    "plt.xlabel(\"Category\")\n",
    "plt.legend(loc='best')\n",
    "plt.show()"
   ]
  },
  {
   "cell_type": "markdown",
   "id": "fe9a05c5",
   "metadata": {},
   "source": [
    "### From the previous relations:\n",
    "#### >Office supplies have the highest number of orders and moderate sales and profits.\n",
    "#### >Technology has the highest sales and profits."
   ]
  },
  {
   "cell_type": "markdown",
   "id": "90b87dd1",
   "metadata": {},
   "source": [
    "# "
   ]
  },
  {
   "cell_type": "markdown",
   "id": "2ae29969",
   "metadata": {},
   "source": [
    "### Subcategories with highest sales "
   ]
  },
  {
   "cell_type": "code",
   "execution_count": null,
   "id": "2c073bf3",
   "metadata": {},
   "outputs": [],
   "source": [
    "# Top 5 subcategories with highest sales and profits\n",
    "Top_5_subcategories=Sales_data.groupby([\"subcategory\"])[\"sales\",\"profit\"].sum().sort_values(by=\"sales\",ascending=False).head(5)"
   ]
  },
  {
   "cell_type": "code",
   "execution_count": null,
   "id": "8f9e55ed",
   "metadata": {},
   "outputs": [],
   "source": [
    "Top_5_subcategories"
   ]
  },
  {
   "cell_type": "code",
   "execution_count": null,
   "id": "34536bd2",
   "metadata": {},
   "outputs": [],
   "source": [
    "plt.style.use(\"_classic_test_patch\")\n",
    "plt.bar(Top_5_subcategories.index,Top_5_subcategories[\"sales\"],color='skyblue',alpha=0.7,label='Sales')\n",
    "plt.plot(Top_5_subcategories.index,Top_5_subcategories[\"profit\"],color='red',marker='o',label='Profit')\n",
    "plt.title(\"Top_5_subcategories\")\n",
    "plt.ylabel(\"Sales-Profits\")\n",
    "plt.xlabel(\"Product \")\n",
    "plt.legend(loc='best')\n",
    "plt.show()"
   ]
  },
  {
   "cell_type": "code",
   "execution_count": null,
   "id": "9a234c79",
   "metadata": {},
   "outputs": [],
   "source": [
    "#Subcategories with lowest sales and profits\n",
    "Subcategories_with_Lowest_sales=Sales_data.groupby([\"subcategory\"])[\"sales\",\"profit\"].sum().sort_values(by=\"sales\",ascending=True).head(5)"
   ]
  },
  {
   "cell_type": "code",
   "execution_count": null,
   "id": "efeaf221",
   "metadata": {},
   "outputs": [],
   "source": [
    "Subcategories_with_Lowest_sales"
   ]
  },
  {
   "cell_type": "code",
   "execution_count": null,
   "id": "a479457b",
   "metadata": {},
   "outputs": [],
   "source": [
    "plt.style.use(\"_classic_test_patch\")\n",
    "plt.bar(Subcategories_with_Lowest_sales.index,Subcategories_with_Lowest_sales[\"sales\"],color='skyblue',alpha=0.7,label='Sales')\n",
    "plt.plot(Subcategories_with_Lowest_sales.index,Subcategories_with_Lowest_sales[\"profit\"],color='red',marker='o',label='Profit')\n",
    "plt.title(\"Subcategories with Lowest Sales\")\n",
    "plt.ylabel(\"Sales-Profits\")\n",
    "plt.xlabel(\"Product\")\n",
    "plt.legend(loc='best')\n",
    "plt.show()"
   ]
  },
  {
   "cell_type": "markdown",
   "id": "9f56b9a8",
   "metadata": {},
   "source": [
    "### From previous relations :\n",
    "#### >Phones and Chairs have the highest sales and profits.\n",
    "#### >Fasteners and labels have the lowest sales and profits."
   ]
  },
  {
   "cell_type": "markdown",
   "id": "314eba40",
   "metadata": {},
   "source": [
    "# "
   ]
  },
  {
   "cell_type": "markdown",
   "id": "446c3ee0",
   "metadata": {},
   "source": [
    "### Customers purchasing behavior and customers with highest sales  "
   ]
  },
  {
   "cell_type": "code",
   "execution_count": null,
   "id": "f4bac247",
   "metadata": {},
   "outputs": [],
   "source": [
    "# N of customers\n",
    "Sales_data[\"customer\"].nunique()"
   ]
  },
  {
   "cell_type": "code",
   "execution_count": null,
   "id": "d9cb63e1",
   "metadata": {},
   "outputs": [],
   "source": [
    "# Identifing the customers with highest sales\n",
    "Customers_with_highest_sales=Sales_data.groupby([\"customer\"])[\"sales\"].sum().to_frame(name=\"Total Sales\").sort_values(by=\"Total Sales\",ascending=False).head(5)"
   ]
  },
  {
   "cell_type": "code",
   "execution_count": null,
   "id": "92b3ac09",
   "metadata": {},
   "outputs": [],
   "source": [
    "Customers_with_highest_sales.plot(kind=\"bar\",color=\"g\",alpha=0.7)\n",
    "plt.title(\"Customers with highest sales\")\n",
    "plt.xlabel(\"Customer\", fontsize=12)\n",
    "plt.ylabel(\"Sales\", fontsize=12)"
   ]
  },
  {
   "cell_type": "code",
   "execution_count": null,
   "id": "c21073d0",
   "metadata": {},
   "outputs": [],
   "source": [
    "# Customers purchasing behavior\n",
    "Customers_with_highest_N_orders=Sales_data.groupby([\"customer\"])[\"order_id\"].count().to_frame(name=\"Total N of Orders\").sort_values(by=\"Total N of Orders\",ascending=False).head(5)"
   ]
  },
  {
   "cell_type": "code",
   "execution_count": null,
   "id": "ba192b8b",
   "metadata": {},
   "outputs": [],
   "source": [
    "Customers_with_highest_N_orders.plot(kind=\"bar\",color=\"skyblue\",alpha=0.7)\n",
    "plt.xlabel(\"Customer\", fontsize=12)\n",
    "plt.ylabel(\"N of orders\", fontsize=12)\n",
    "plt.title(\"Customers with highest N of orders\")"
   ]
  },
  {
   "cell_type": "markdown",
   "id": "405d6308",
   "metadata": {},
   "source": [
    "### From the previous charts:\n",
    "#### >We have customers with high sales volum and customers with high purchasing behavior"
   ]
  },
  {
   "cell_type": "markdown",
   "id": "249dd37b",
   "metadata": {},
   "source": [
    "# "
   ]
  },
  {
   "cell_type": "markdown",
   "id": "6c94d3ff",
   "metadata": {},
   "source": [
    "### States with highest sales"
   ]
  },
  {
   "cell_type": "code",
   "execution_count": null,
   "id": "9325f631",
   "metadata": {},
   "outputs": [],
   "source": [
    "# N of states\n",
    "Sales_data[\"state\"].nunique()"
   ]
  },
  {
   "cell_type": "code",
   "execution_count": null,
   "id": "bcf148e6",
   "metadata": {},
   "outputs": [],
   "source": [
    "# Determining the states with the highest sales\n",
    "States_with_highest_sales=Sales_data.groupby([\"state\"])[\"sales\"].sum().to_frame(name=\"Total Sales\").sort_values(by=\"Total Sales\",ascending=False).head(5)"
   ]
  },
  {
   "cell_type": "code",
   "execution_count": null,
   "id": "44bb0493",
   "metadata": {},
   "outputs": [],
   "source": [
    "States_with_highest_sales.plot(kind=\"bar\",color=\"g\")\n",
    "plt.xlabel(\"State\", fontsize=12)\n",
    "plt.ylabel(\"Sales\", fontsize=12)\n",
    "plt.title(\"states with the highest sales\")"
   ]
  },
  {
   "cell_type": "markdown",
   "id": "5f0f0119",
   "metadata": {},
   "source": [
    "### California and NewYork have the highest sales with total sales higher than 300000$ "
   ]
  },
  {
   "cell_type": "markdown",
   "id": "92d87b4f",
   "metadata": {},
   "source": [
    "# "
   ]
  },
  {
   "cell_type": "markdown",
   "id": "e9fc83a8",
   "metadata": {},
   "source": [
    "## Time series analysis "
   ]
  },
  {
   "cell_type": "code",
   "execution_count": null,
   "id": "ab7ba2a1",
   "metadata": {},
   "outputs": [],
   "source": [
    "# Sales and profits per each month\n",
    "Monthly_Sales_Profit=Sales_data.groupby([\"Year\",\"Month\"])[\"sales\",\"profit\"].sum()"
   ]
  },
  {
   "cell_type": "code",
   "execution_count": null,
   "id": "382f02ba",
   "metadata": {},
   "outputs": [],
   "source": [
    "Monthly_Sales_Profit"
   ]
  },
  {
   "cell_type": "code",
   "execution_count": null,
   "id": "7a134f17",
   "metadata": {},
   "outputs": [],
   "source": [
    "# Using heatmap to distinguish the months with highest sales and months with lowest sales\n",
    "sns.heatmap(Monthly_Sales_Profit)\n",
    "plt.title(\"Months with highest sales and profits\")"
   ]
  },
  {
   "cell_type": "code",
   "execution_count": null,
   "id": "4588dd8b",
   "metadata": {},
   "outputs": [],
   "source": [
    "# Identifing the months with highest number of orders\n",
    "Months_Highest_sales=Sales_data.groupby([\"Year\",\"Month\"])[\"order_id\"].count().to_frame(name=\"N of orders\")"
   ]
  },
  {
   "cell_type": "code",
   "execution_count": null,
   "id": "501d8ac2",
   "metadata": {},
   "outputs": [],
   "source": [
    "sns.heatmap(Months_Highest_sales)\n",
    "plt.title(\"Months with highest N of orders\")"
   ]
  },
  {
   "cell_type": "markdown",
   "id": "56a4e208",
   "metadata": {},
   "source": [
    "### From the previous relations:\n",
    "#### >Sales and profits are very high in the period between September and December. \n",
    "#### >Sales and profits are very low in the period between January and March.\n",
    "#### >Sales and profits are moderate in the rest of the year. "
   ]
  },
  {
   "cell_type": "markdown",
   "id": "93bee39b",
   "metadata": {},
   "source": [
    "# "
   ]
  },
  {
   "cell_type": "markdown",
   "id": "419d2be9",
   "metadata": {},
   "source": [
    "### Sales and profits trend over months "
   ]
  },
  {
   "cell_type": "code",
   "execution_count": null,
   "id": "ebb35fbb",
   "metadata": {},
   "outputs": [],
   "source": [
    "# Sales and profits over months\n",
    "Sales_profits_over_months=Sales_data.groupby([\"Year\",\"Month\"])[[\"sales\",\"profit\"]].sum().reset_index()"
   ]
  },
  {
   "cell_type": "code",
   "execution_count": null,
   "id": "dced46b4",
   "metadata": {},
   "outputs": [],
   "source": [
    "plt.plot(Sales_profits_over_months.index, Sales_profits_over_months[\"sales\"], label=\"Sales\", marker='o', color='blue')\n",
    "plt.plot(Sales_profits_over_months.index, Sales_profits_over_months[\"profit\"], label=\"Profit\", marker='o', color='green')\n",
    "plt.title(\"Monthly Sales and Profit\", fontsize=16)\n",
    "plt.xlabel(\"Year-Month\", fontsize=12)\n",
    "plt.ylabel(\"Amount\", fontsize=12)\n",
    "plt.legend()\n",
    "plt.grid(True)\n",
    "plt.tight_layout()\n",
    "plt.show()"
   ]
  },
  {
   "cell_type": "code",
   "execution_count": null,
   "id": "02fc6c31",
   "metadata": {},
   "outputs": [],
   "source": [
    "# The relation between sales and profits\n",
    "plt.style.use(\"classic\")\n",
    "plt.scatter(Sales_data[\"sales\"],Sales_data[\"profit\"])\n",
    "plt.title(\"Sales and Profits relationship\", fontsize=16)\n",
    "plt.xlabel(\"Sales\", fontsize=12)\n",
    "plt.ylabel(\"Profits\", fontsize=12)"
   ]
  },
  {
   "cell_type": "markdown",
   "id": "4936532b",
   "metadata": {},
   "source": [
    "### As the sales increase, profits increase. "
   ]
  },
  {
   "cell_type": "markdown",
   "id": "8ab2610d",
   "metadata": {},
   "source": [
    "# "
   ]
  },
  {
   "cell_type": "markdown",
   "id": "607b7ac6",
   "metadata": {},
   "source": [
    "### Discovering other data correlations"
   ]
  },
  {
   "cell_type": "code",
   "execution_count": null,
   "id": "7d7f64da",
   "metadata": {},
   "outputs": [],
   "source": [
    "correlatios=Sales_data.corr()"
   ]
  },
  {
   "cell_type": "code",
   "execution_count": null,
   "id": "c7bcecf7",
   "metadata": {},
   "outputs": [],
   "source": [
    "correlatios"
   ]
  },
  {
   "cell_type": "code",
   "execution_count": null,
   "id": "9472b05e",
   "metadata": {},
   "outputs": [],
   "source": [
    "sns.heatmap(correlatios)"
   ]
  },
  {
   "cell_type": "markdown",
   "id": "976f096f",
   "metadata": {},
   "source": [
    "# "
   ]
  },
  {
   "cell_type": "markdown",
   "id": "5d924e88",
   "metadata": {},
   "source": [
    "# Conclusion\n",
    "### This project focused on analyzing sales data from a retail store to uncover trends and actionable insights. Here are the key takeaways:\n",
    "\n",
    "#### Sales and Profit Trends:\n",
    "###### >Identified the top-performing products and categories that contributed significantly to overall sales and profits.\n",
    "###### >Analyzed seasonal trends and observed peak sales periods.\n",
    "\n",
    "#### Customer Behavior:\n",
    "###### >Gained insights into customer preferences and buying patterns.\n",
    "###### >Highlighted key customer demographics contributing to revenue.\n",
    "\n",
    "#### Operational Insights:\n",
    "###### >Found inefficiencies, such as products with high sales but low profitability.\n",
    "###### >Provided recommendations for inventory optimization and sales strategy refinement.\n",
    "\n",
    "#### Visualization Impact:\n",
    "###### >Utilized scatter plots, bar charts, and heatmaps to clearly illustrate patterns and correlations within the data.\n",
    "\n",
    "### By cleaning and analyzing the data, this project has demonstrated the importance of data-driven decision-making in retail sales. These insights can be used to improve overall profitability."
   ]
  },
  {
   "cell_type": "code",
   "execution_count": null,
   "id": "eedc7a1d",
   "metadata": {},
   "outputs": [],
   "source": []
  }
 ],
 "metadata": {
  "kernelspec": {
   "display_name": "Python 3 (ipykernel)",
   "language": "python",
   "name": "python3"
  },
  "language_info": {
   "codemirror_mode": {
    "name": "ipython",
    "version": 3
   },
   "file_extension": ".py",
   "mimetype": "text/x-python",
   "name": "python",
   "nbconvert_exporter": "python",
   "pygments_lexer": "ipython3",
   "version": "3.9.13"
  }
 },
 "nbformat": 4,
 "nbformat_minor": 5
}
